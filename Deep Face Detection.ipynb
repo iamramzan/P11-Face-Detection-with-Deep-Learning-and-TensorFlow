{
 "cells": [
  {
   "cell_type": "markdown",
   "id": "7232f1e6-84e6-4b14-bae6-2f7829d00a44",
   "metadata": {},
   "source": [
    "### Setup and Data Collection"
   ]
  },
  {
   "cell_type": "code",
   "execution_count": null,
   "id": "51ffaf0a-8431-4c8e-bc48-e82187c46286",
   "metadata": {},
   "outputs": [],
   "source": [
    "# Install Dependencies and Set Up Environment: Install required libraries and configure the development environment.\n",
    "import tensorflow as tf\n",
    "import json\n",
    "import numpy as np\n",
    "from matplotlib import pyplot as plt\n",
    "import albumentations as alb"
   ]
  },
  {
   "cell_type": "code",
   "execution_count": null,
   "id": "a604a853-5682-4dfd-a3ae-3f14af51ffd0",
   "metadata": {},
   "outputs": [],
   "source": [
    "# Collect Images Using OpenCV: Capture images through OpenCV for dataset creation.\n",
    "import os\n",
    "import time\n",
    "import uuid\n",
    "import cv2"
   ]
  },
  {
   "cell_type": "code",
   "execution_count": null,
   "id": "e2069ba1-7163-4cc1-a9b0-90009facc8fd",
   "metadata": {},
   "outputs": [],
   "source": [
    "IMAGES_PATH = os.path.join('data','images')\n",
    "number_images = 30"
   ]
  },
  {
   "cell_type": "code",
   "execution_count": null,
   "id": "b4c33b75-b54b-4a38-85d7-12c907ec33c8",
   "metadata": {},
   "outputs": [],
   "source": [
    "cap = cv2.VideoCapture(1)\n",
    "for imgnum in range(number_images):\n",
    "    print('Collecting image {}'.format(imgnum))\n",
    "    ret, frame = cap.read()\n",
    "    imgname = os.path.join(IMAGES_PATH,f'{str(uuid.uuid1())}.jpg')\n",
    "    cv2.imwrite(imgname, frame)\n",
    "    cv2.imshow('frame', frame)\n",
    "    time.sleep(0.5)\n",
    "\n",
    "    if cv2.waitKey(1) & 0xFF == ord('q'):\n",
    "        break\n",
    "cap.release()\n",
    "cv2.destroyAllWindows()"
   ]
  },
  {
   "cell_type": "code",
   "execution_count": null,
   "id": "236233bd-c482-4ee6-b0ca-77e21db9cf42",
   "metadata": {},
   "outputs": [],
   "source": [
    "# Annotate Images Using LabelMe: Label the collected images with bounding boxes for face detection.\n",
    "!labelme"
   ]
  },
  {
   "cell_type": "markdown",
   "id": "a31fc511-9089-4823-a7df-00942cc187f0",
   "metadata": {},
   "source": [
    "### Dataset Preparation and Image Loading"
   ]
  },
  {
   "cell_type": "code",
   "execution_count": null,
   "id": "3d43914b-8359-4543-bd3b-5aed9cf50169",
   "metadata": {},
   "outputs": [],
   "source": [
    "# Load Images into a TensorFlow Data Pipeline: Create a pipeline to process images efficiently.\n",
    "images = tf.data.Dataset.list_files('data\\\\images\\\\*.jpg')"
   ]
  },
  {
   "cell_type": "code",
   "execution_count": null,
   "id": "b1e31191-c1e4-4864-8d7e-48a40dfeaece",
   "metadata": {},
   "outputs": [],
   "source": [
    "images.as_numpy_iterator().next()"
   ]
  },
  {
   "cell_type": "code",
   "execution_count": null,
   "id": "5b5ae62e-a9a9-4d49-b6f5-e42405265b4e",
   "metadata": {},
   "outputs": [],
   "source": [
    "def load_image(x): \n",
    "    byte_img = tf.io.read_file(x)\n",
    "    img = tf.io.decode_jpeg(byte_img)\n",
    "    return img"
   ]
  },
  {
   "cell_type": "code",
   "execution_count": null,
   "id": "1c7184df-36e3-4890-a28e-8bd759bd8eb2",
   "metadata": {},
   "outputs": [],
   "source": [
    "images = images.map(load_image)"
   ]
  },
  {
   "cell_type": "code",
   "execution_count": null,
   "id": "402af4e8-fb7b-497f-ac04-5fd14e0ee8db",
   "metadata": {},
   "outputs": [],
   "source": [
    "images.as_numpy_iterator().next()"
   ]
  },
  {
   "cell_type": "code",
   "execution_count": null,
   "id": "443a21b3-cf07-4a64-99ca-2106ce5c5165",
   "metadata": {},
   "outputs": [],
   "source": [
    "type(images)"
   ]
  },
  {
   "cell_type": "code",
   "execution_count": null,
   "id": "2c716248-22c3-446c-add4-767981548e3a",
   "metadata": {},
   "outputs": [],
   "source": [
    "# Visualize Raw Images Using Matplotlib: Display raw images for verification and exploration.\n",
    "image_generator = images.batch(4).as_numpy_iterator()"
   ]
  },
  {
   "cell_type": "code",
   "execution_count": null,
   "id": "917f0ab6-fc69-4594-b51d-d38bfc3af50f",
   "metadata": {},
   "outputs": [],
   "source": [
    "plot_images = image_generator.next()"
   ]
  },
  {
   "cell_type": "code",
   "execution_count": null,
   "id": "1ff8cac5-1669-4c8c-8c86-d5226d8e5449",
   "metadata": {},
   "outputs": [],
   "source": [
    "fig, ax = plt.subplots(ncols=4, figsize=(20,20))\n",
    "for idx, image in enumerate(plot_images):\n",
    "    ax[idx].imshow(image) \n",
    "plt.show()"
   ]
  },
  {
   "cell_type": "markdown",
   "id": "985cf0f4-d054-4625-9003-730e43b7c8e0",
   "metadata": {},
   "source": [
    "### Data Partitioning"
   ]
  },
  {
   "cell_type": "code",
   "execution_count": null,
   "id": "4dbd3266-7f1f-4d79-991c-996ec49c0196",
   "metadata": {},
   "outputs": [],
   "source": [
    "# Split Data into Sets: Divide data manually into training, validation, and testing subsets.\n",
    "90*.7 # 63 to train"
   ]
  },
  {
   "cell_type": "code",
   "execution_count": null,
   "id": "a3db565f-19b1-475a-8897-a83ac083448e",
   "metadata": {},
   "outputs": [],
   "source": [
    "90*.15 # 14 and 13 to test and val"
   ]
  },
  {
   "cell_type": "code",
   "execution_count": null,
   "id": "2e267148-2567-4098-ae08-2d00f4a4d11c",
   "metadata": {},
   "outputs": [],
   "source": [
    "# Organize Labels into Folders: Ensure corresponding annotations are stored systematically.\n",
    "for folder in ['train','test','val']:\n",
    "    for file in os.listdir(os.path.join('data', folder, 'images')):\n",
    "        \n",
    "        filename = file.split('.')[0]+'.json'\n",
    "        existing_filepath = os.path.join('data','labels', filename)\n",
    "        if os.path.exists(existing_filepath): \n",
    "            new_filepath = os.path.join('data',folder,'labels',filename)\n",
    "            os.replace(existing_filepath, new_filepath)"
   ]
  },
  {
   "cell_type": "markdown",
   "id": "7cec4333-a003-4e71-9170-4b217a338cfc",
   "metadata": {},
   "source": [
    "### Image Augmentation with Albumentations"
   ]
  },
  {
   "cell_type": "code",
   "execution_count": null,
   "id": "23d9393b-8911-4751-8d75-74ffff02a177",
   "metadata": {},
   "outputs": [],
   "source": [
    "# Configure Transformations: Set up augmentation techniques such as rotations, scaling, and brightness adjustments.\n",
    "augmentor = alb.Compose([alb.RandomCrop(width=450, height=450), \n",
    "                         alb.HorizontalFlip(p=0.5), \n",
    "                         alb.RandomBrightnessContrast(p=0.2),\n",
    "                         alb.RandomGamma(p=0.2), \n",
    "                         alb.RGBShift(p=0.2), \n",
    "                         alb.VerticalFlip(p=0.5)], \n",
    "                       bbox_params=alb.BboxParams(format='albumentations', \n",
    "                                                  label_fields=['class_labels']))"
   ]
  },
  {
   "cell_type": "code",
   "execution_count": null,
   "id": "b457a0b1-cd20-4a07-baee-9fd57f4857ee",
   "metadata": {},
   "outputs": [],
   "source": [
    "# Load Test Image and Annotation: Utilize OpenCV and JSON to process an example image and its annotation.\n",
    "img = cv2.imread(os.path.join('data','train', 'images','2a825902-c1c3-11ef-b817-94e6f70a2cbe.jpg'))"
   ]
  },
  {
   "cell_type": "code",
   "execution_count": null,
   "id": "fee1fe3f-9d8b-443e-bb3c-390f9676207e",
   "metadata": {},
   "outputs": [],
   "source": [
    "with open(os.path.join('data', 'train', 'labels', '2a825902-c1c3-11ef-b817-94e6f70a2cbe.json'), 'r') as f:\n",
    "    label = json.load(f)"
   ]
  },
  {
   "cell_type": "code",
   "execution_count": null,
   "id": "1b9e6876-43dd-4931-bb0a-980993ac3611",
   "metadata": {},
   "outputs": [],
   "source": [
    "label['shapes'][0]['points']"
   ]
  },
  {
   "cell_type": "code",
   "execution_count": null,
   "id": "6e4fd3db-8347-4759-8da7-81ac9af5170a",
   "metadata": {},
   "outputs": [],
   "source": [
    "# Rescale Coordinates: Adjust bounding box coordinates to align with image resolution.\n",
    "coords = [0,0,0,0]\n",
    "coords[0] = label['shapes'][0]['points'][0][0]\n",
    "coords[1] = label['shapes'][0]['points'][0][1]\n",
    "coords[2] = label['shapes'][0]['points'][1][0]\n",
    "coords[3] = label['shapes'][0]['points'][1][1]"
   ]
  },
  {
   "cell_type": "code",
   "execution_count": null,
   "id": "77fc8a02-d000-4b02-b7ad-6ab7445b9ba2",
   "metadata": {},
   "outputs": [],
   "source": [
    "coords"
   ]
  },
  {
   "cell_type": "code",
   "execution_count": null,
   "id": "5a6df728-f88e-4c28-b1e8-d7b192bd231f",
   "metadata": {},
   "outputs": [],
   "source": [
    "coords = list(np.divide(coords, [640,480,640,480]))"
   ]
  },
  {
   "cell_type": "code",
   "execution_count": null,
   "id": "65164731-dab2-4d63-adad-5bb356b5eb5b",
   "metadata": {},
   "outputs": [],
   "source": [
    "coords"
   ]
  },
  {
   "cell_type": "code",
   "execution_count": null,
   "id": "0d637497-ef58-456b-b3ab-1bcd79a3c482",
   "metadata": {},
   "outputs": [],
   "source": [
    "# Apply Augmentations: Visualize augmented images to verify the transformations.\n",
    "augmented = augmentor(image=img, bboxes=[coords], class_labels=['face'])"
   ]
  },
  {
   "cell_type": "code",
   "execution_count": null,
   "id": "5cd8c15b-58ca-4b7c-8d6a-4925c60f16c2",
   "metadata": {},
   "outputs": [],
   "source": [
    "augmented['bboxes'][0][2:]"
   ]
  },
  {
   "cell_type": "code",
   "execution_count": null,
   "id": "58f97ad9-90be-41de-a88c-01464a49ba53",
   "metadata": {},
   "outputs": [],
   "source": [
    "augmented['bboxes']"
   ]
  },
  {
   "cell_type": "code",
   "execution_count": null,
   "id": "af09784f-831a-4511-8353-eeedf0edb0bd",
   "metadata": {},
   "outputs": [],
   "source": [
    "cv2.rectangle(augmented['image'], \n",
    "              tuple(np.multiply(augmented['bboxes'][0][:2], [450,450]).astype(int)),\n",
    "              tuple(np.multiply(augmented['bboxes'][0][2:], [450,450]).astype(int)), \n",
    "                    (255,0,0), 2)\n",
    "\n",
    "plt.imshow(augmented['image'])"
   ]
  },
  {
   "cell_type": "markdown",
   "id": "a4d6d936-6080-4c4a-bc85-ec69a5475099",
   "metadata": {},
   "source": [
    "### Augmentation Pipeline Integration"
   ]
  },
  {
   "cell_type": "code",
   "execution_count": null,
   "id": "85e0d209-2021-4282-97dc-d27aa71b1fc2",
   "metadata": {},
   "outputs": [],
   "source": [
    "# Execute Augmentations: Apply augmentation techniques across the dataset.\n",
    "for partition in ['train','test','val']: \n",
    "    for image in os.listdir(os.path.join('data', partition, 'images')):\n",
    "        img = cv2.imread(os.path.join('data', partition, 'images', image))\n",
    "\n",
    "        coords = [0,0,0.00001,0.00001]\n",
    "        label_path = os.path.join('data', partition, 'labels', f'{image.split(\".\")[0]}.json')\n",
    "        if os.path.exists(label_path):\n",
    "            with open(label_path, 'r') as f:\n",
    "                label = json.load(f)\n",
    "\n",
    "            coords[0] = label['shapes'][0]['points'][0][0]\n",
    "            coords[1] = label['shapes'][0]['points'][0][1]\n",
    "            coords[2] = label['shapes'][0]['points'][1][0]\n",
    "            coords[3] = label['shapes'][0]['points'][1][1]\n",
    "            coords = list(np.divide(coords, [640,480,640,480]))\n",
    "\n",
    "        try: \n",
    "            for x in range(60):\n",
    "                augmented = augmentor(image=img, bboxes=[coords], class_labels=['face'])\n",
    "                cv2.imwrite(os.path.join('aug_data', partition, 'images', f'{image.split(\".\")[0]}.{x}.jpg'), augmented['image'])\n",
    "\n",
    "                annotation = {}\n",
    "                annotation['image'] = image\n",
    "\n",
    "                if os.path.exists(label_path):\n",
    "                    if len(augmented['bboxes']) == 0: \n",
    "                        annotation['bbox'] = [0,0,0,0]\n",
    "                        annotation['class'] = 0 \n",
    "                    else: \n",
    "                        annotation['bbox'] = augmented['bboxes'][0]\n",
    "                        annotation['class'] = 1\n",
    "                else: \n",
    "                    annotation['bbox'] = [0,0,0,0]\n",
    "                    annotation['class'] = 0 \n",
    "\n",
    "\n",
    "                with open(os.path.join('aug_data', partition, 'labels', f'{image.split(\".\")[0]}.{x}.json'), 'w') as f:\n",
    "                    json.dump(annotation, f)\n",
    "\n",
    "        except Exception as e:\n",
    "            print(e)"
   ]
  },
  {
   "cell_type": "code",
   "execution_count": null,
   "id": "7d70406a-757f-4a0a-a2f7-d83b2b9fb260",
   "metadata": {},
   "outputs": [],
   "source": [
    "# Load Augmented Images: Integrate the augmented images into a TensorFlow dataset.\n",
    "train_images = tf.data.Dataset.list_files('aug_data\\\\train\\\\images\\\\*.jpg', shuffle=False)\n",
    "train_images = train_images.map(load_image)\n",
    "train_images = train_images.map(lambda x: tf.image.resize(x, (120,120)))\n",
    "train_images = train_images.map(lambda x: x/255)"
   ]
  },
  {
   "cell_type": "code",
   "execution_count": null,
   "id": "39a094ae-9cac-4491-8e47-f7aa3f14f12e",
   "metadata": {},
   "outputs": [],
   "source": [
    "test_images = tf.data.Dataset.list_files('aug_data\\\\test\\\\images\\\\*.jpg', shuffle=False)\n",
    "test_images = test_images.map(load_image)\n",
    "test_images = test_images.map(lambda x: tf.image.resize(x, (120,120)))\n",
    "test_images = test_images.map(lambda x: x/255)"
   ]
  },
  {
   "cell_type": "code",
   "execution_count": null,
   "id": "d56c3f16-39d5-42c7-9921-8f1ecb50d166",
   "metadata": {},
   "outputs": [],
   "source": [
    "val_images = tf.data.Dataset.list_files('aug_data\\\\val\\\\images\\\\*.jpg', shuffle=False)\n",
    "val_images = val_images.map(load_image)\n",
    "val_images = val_images.map(lambda x: tf.image.resize(x, (120,120)))\n",
    "val_images = val_images.map(lambda x: x/255)"
   ]
  },
  {
   "cell_type": "code",
   "execution_count": null,
   "id": "4d1ddb6e-d5fb-4993-8d80-785a45f119d4",
   "metadata": {},
   "outputs": [],
   "source": [
    "train_images.as_numpy_iterator().next()"
   ]
  },
  {
   "cell_type": "markdown",
   "id": "53898490-d631-400f-b709-0ca9cf4fbd3d",
   "metadata": {},
   "source": [
    "### Label Preparation"
   ]
  },
  {
   "cell_type": "code",
   "execution_count": null,
   "id": "5df14327-3cdf-4474-9997-db67bcd40955",
   "metadata": {},
   "outputs": [],
   "source": [
    "# Load Labels Function: Develop a function to handle label loading.\n",
    "def load_labels(label_path):\n",
    "    with open(label_path.numpy(), 'r', encoding = \"utf-8\") as f:\n",
    "        label = json.load(f)\n",
    "        \n",
    "    return [label['class']], label['bbox']"
   ]
  },
  {
   "cell_type": "code",
   "execution_count": null,
   "id": "3bb57539-a38a-458c-aabb-90f437784a81",
   "metadata": {},
   "outputs": [],
   "source": [
    "# Integrate Labels into Dataset: Add annotations to the TensorFlow dataset pipeline.\n",
    "train_labels = tf.data.Dataset.list_files('aug_data\\\\train\\\\labels\\\\*.json', shuffle=False)\n",
    "train_labels = train_labels.map(lambda x: tf.py_function(load_labels, [x], [tf.uint8, tf.float16]))"
   ]
  },
  {
   "cell_type": "code",
   "execution_count": null,
   "id": "1641cda8-7d84-4fa0-9e86-0d258bc3f880",
   "metadata": {},
   "outputs": [],
   "source": [
    "test_labels = tf.data.Dataset.list_files('aug_data\\\\test\\\\labels\\\\*.json', shuffle=False)\n",
    "test_labels = test_labels.map(lambda x: tf.py_function(load_labels, [x], [tf.uint8, tf.float16]))"
   ]
  },
  {
   "cell_type": "code",
   "execution_count": null,
   "id": "11cf929f-020a-44fd-8265-d4458afa1ea4",
   "metadata": {},
   "outputs": [],
   "source": [
    "val_labels = tf.data.Dataset.list_files('aug_data\\\\val\\\\labels\\\\*.json', shuffle=False)\n",
    "val_labels = val_labels.map(lambda x: tf.py_function(load_labels, [x], [tf.uint8, tf.float16]))"
   ]
  },
  {
   "cell_type": "code",
   "execution_count": null,
   "id": "518c6d4f-fc94-4a7b-af14-4ec6861f21f9",
   "metadata": {},
   "outputs": [],
   "source": [
    "train_labels.as_numpy_iterator().next()"
   ]
  },
  {
   "cell_type": "markdown",
   "id": "964ebc1c-9d4e-4e61-86f8-bf42ae72129b",
   "metadata": {},
   "source": [
    "### Dataset Finalization"
   ]
  },
  {
   "cell_type": "code",
   "execution_count": null,
   "id": "75750cbb-be24-4c62-ba09-445c567119d2",
   "metadata": {},
   "outputs": [],
   "source": [
    "# Verify Partition Sizes: Ensure the dataset is evenly split across partitions.\n",
    "len(train_images), len(train_labels), len(test_images), len(test_labels), len(val_images), len(val_labels)"
   ]
  },
  {
   "cell_type": "code",
   "execution_count": null,
   "id": "604f2857-250e-4e4a-a243-efe6302220ee",
   "metadata": {},
   "outputs": [],
   "source": [
    "# Combine Images and Labels: Match images with their respective labels.\n",
    "train = tf.data.Dataset.zip((train_images, train_labels))\n",
    "train = train.shuffle(5000)\n",
    "train = train.batch(8)\n",
    "train = train.prefetch(4)"
   ]
  },
  {
   "cell_type": "code",
   "execution_count": null,
   "id": "ecaa569f-8460-43cb-845a-705e756ff2f0",
   "metadata": {},
   "outputs": [],
   "source": [
    "test = tf.data.Dataset.zip((test_images, test_labels))\n",
    "test = test.shuffle(1300)\n",
    "test = test.batch(8)\n",
    "test = test.prefetch(4)"
   ]
  },
  {
   "cell_type": "code",
   "execution_count": null,
   "id": "bc9a7429-dc06-4ce9-bf44-2394d85d7ef7",
   "metadata": {},
   "outputs": [],
   "source": [
    "val = tf.data.Dataset.zip((val_images, val_labels))\n",
    "val = val.shuffle(1000)\n",
    "val = val.batch(8)\n",
    "val = val.prefetch(4)"
   ]
  },
  {
   "cell_type": "code",
   "execution_count": null,
   "id": "f06c8aa5-24e2-402c-852f-00c97a94471d",
   "metadata": {},
   "outputs": [],
   "source": [
    "train.as_numpy_iterator().next()[1]"
   ]
  },
  {
   "cell_type": "code",
   "execution_count": null,
   "id": "64015140-062b-41c2-b27e-10d385dd6d44",
   "metadata": {},
   "outputs": [],
   "source": [
    "# Visualize Annotated Samples: Inspect the images alongside their bounding boxes.\n",
    "data_samples = train.as_numpy_iterator()"
   ]
  },
  {
   "cell_type": "code",
   "execution_count": null,
   "id": "f7c8d635-b4d2-42d4-80b8-fae11e165967",
   "metadata": {},
   "outputs": [],
   "source": [
    "res = data_samples.next()"
   ]
  },
  {
   "cell_type": "code",
   "execution_count": null,
   "id": "76dd2548-845d-495e-8a1e-f53ad27ee447",
   "metadata": {},
   "outputs": [],
   "source": [
    "fig, ax = plt.subplots(ncols=4, figsize=(20, 20))\n",
    "for idx in range(4): \n",
    "    sample_image = res[0][idx].copy()  # Create a writable copy of the image\n",
    "    sample_coords = res[1][1][idx]\n",
    "\n",
    "    # Draw the rectangle\n",
    "    cv2.rectangle(sample_image, \n",
    "                  tuple(np.multiply(sample_coords[:2], [120, 120]).astype(int)),\n",
    "                  tuple(np.multiply(sample_coords[2:], [120, 120]).astype(int)), \n",
    "                  (255, 0, 0), 2)\n",
    "\n",
    "    # Display the image\n",
    "    ax[idx].imshow(sample_image)"
   ]
  },
  {
   "cell_type": "markdown",
   "id": "15d8d294-8cce-4f80-9cda-39d57c1905d7",
   "metadata": {},
   "source": [
    "### Building the Deep Learning Model"
   ]
  },
  {
   "cell_type": "code",
   "execution_count": null,
   "id": "e2681569-05df-4629-8bb0-1746a945b930",
   "metadata": {},
   "outputs": [],
   "source": [
    "# Import Layers and Configure Network: Set up the architecture using TensorFlow’s Functional API.\n",
    "from tensorflow.keras.models import Model\n",
    "from tensorflow.keras.layers import Input, Conv2D, Dense, GlobalMaxPooling2D\n",
    "from tensorflow.keras.applications import VGG16"
   ]
  },
  {
   "cell_type": "code",
   "execution_count": null,
   "id": "9511b705-e486-434d-adb1-29186af339cf",
   "metadata": {},
   "outputs": [],
   "source": [
    "# Integrate VGG16: Use a pre-trained VGG16 model as the backbone for feature extraction.\n",
    "vgg = VGG16(include_top=False)"
   ]
  },
  {
   "cell_type": "code",
   "execution_count": null,
   "id": "47f0ae8c-a786-4a66-bbc0-2437e04aff2c",
   "metadata": {},
   "outputs": [],
   "source": [
    "vgg.summary()"
   ]
  },
  {
   "cell_type": "code",
   "execution_count": null,
   "id": "c1ae8f4c-b14d-4f32-94b5-b166d593dfb7",
   "metadata": {},
   "outputs": [],
   "source": [
    "# Build Neural Network: Assemble the full model for face detection.\n",
    "def build_model(): \n",
    "    input_layer = Input(shape=(120,120,3))\n",
    "    \n",
    "    vgg = VGG16(include_top=False)(input_layer)\n",
    "\n",
    "    # Classification Model  \n",
    "    f1 = GlobalMaxPooling2D()(vgg)\n",
    "    class1 = Dense(2048, activation='relu')(f1)\n",
    "    class2 = Dense(1, activation='sigmoid')(class1)\n",
    "    \n",
    "    # Bounding box model\n",
    "    f2 = GlobalMaxPooling2D()(vgg)\n",
    "    regress1 = Dense(2048, activation='relu')(f2)\n",
    "    regress2 = Dense(4, activation='sigmoid')(regress1)\n",
    "    \n",
    "    facetracker = Model(inputs=input_layer, outputs=[class2, regress2])\n",
    "    return facetracker"
   ]
  },
  {
   "cell_type": "code",
   "execution_count": null,
   "id": "a284934e-6dc4-4242-bf4f-f2a0400bded7",
   "metadata": {},
   "outputs": [],
   "source": [
    "# Test Network Architecture: Verify the model's structure and output.\n",
    "facetracker = build_model()"
   ]
  },
  {
   "cell_type": "code",
   "execution_count": null,
   "id": "ba9fe1ee-3324-4902-9934-618211dadc5f",
   "metadata": {},
   "outputs": [],
   "source": [
    "facetracker.summary()"
   ]
  },
  {
   "cell_type": "code",
   "execution_count": null,
   "id": "6cc8c636-7460-4741-9567-b965cd804244",
   "metadata": {},
   "outputs": [],
   "source": [
    "X, y = train.as_numpy_iterator().next()"
   ]
  },
  {
   "cell_type": "code",
   "execution_count": null,
   "id": "5a7f951e-0054-476e-97c7-1bf226de9e7c",
   "metadata": {},
   "outputs": [],
   "source": [
    "X.shape"
   ]
  },
  {
   "cell_type": "code",
   "execution_count": null,
   "id": "36a4a8e2-05da-4690-bba7-4c20fd4f21fe",
   "metadata": {},
   "outputs": [],
   "source": [
    "classes, coords = facetracker.predict(X)"
   ]
  },
  {
   "cell_type": "code",
   "execution_count": null,
   "id": "d4d1205f-f5e9-4113-a5fc-3049af7bef59",
   "metadata": {},
   "outputs": [],
   "source": [
    "classes, coords"
   ]
  },
  {
   "cell_type": "markdown",
   "id": "0446e3ac-4075-4c31-9312-37f2936e793f",
   "metadata": {},
   "source": [
    "### Define Loss Functions and Optimizers"
   ]
  },
  {
   "cell_type": "code",
   "execution_count": null,
   "id": "e3e4979a-dccf-44e7-92b1-d22273e8c9f8",
   "metadata": {},
   "outputs": [],
   "source": [
    "# Configure Optimizer and Learning Rate: Set up optimization parameters.\n",
    "batches_per_epoch = len(train)\n",
    "lr_decay = (1./0.75 -1)/batches_per_epoch"
   ]
  },
  {
   "cell_type": "code",
   "execution_count": null,
   "id": "94ec9c21-c7cb-4e87-aafd-d4f34fc74832",
   "metadata": {},
   "outputs": [],
   "source": [
    "opt = tf.keras.optimizers.Adam(learning_rate=0.0001, decay=lr_decay)"
   ]
  },
  {
   "cell_type": "code",
   "execution_count": null,
   "id": "f9f1ff6a-9f4c-49c9-a0b1-c916ecc49c85",
   "metadata": {},
   "outputs": [],
   "source": [
    "# Define Loss Functions: Create localization and classification loss metrics.\n",
    "def localization_loss(y_true, yhat):            \n",
    "    delta_coord = tf.reduce_sum(tf.square(y_true[:,:2] - yhat[:,:2]))\n",
    "                  \n",
    "    h_true = y_true[:,3] - y_true[:,1] \n",
    "    w_true = y_true[:,2] - y_true[:,0] \n",
    "\n",
    "    h_pred = yhat[:,3] - yhat[:,1] \n",
    "    w_pred = yhat[:,2] - yhat[:,0] \n",
    "    \n",
    "    delta_size = tf.reduce_sum(tf.square(w_true - w_pred) + tf.square(h_true-h_pred))\n",
    "    \n",
    "    return delta_coord + delta_size"
   ]
  },
  {
   "cell_type": "code",
   "execution_count": null,
   "id": "bd9f7650-4938-4b74-ab31-a2c73e28f43a",
   "metadata": {},
   "outputs": [],
   "source": [
    "classloss = tf.keras.losses.BinaryCrossentropy()\n",
    "regressloss = localization_loss"
   ]
  },
  {
   "cell_type": "code",
   "execution_count": null,
   "id": "504d6995-faca-445a-a29d-29071f774fa6",
   "metadata": {},
   "outputs": [],
   "source": [
    "# Test Loss Metrics: Validate the loss functions on sample data.\n",
    "localization_loss(y[1], coords)"
   ]
  },
  {
   "cell_type": "code",
   "execution_count": null,
   "id": "78260191-e51a-4251-8a9a-d1af99683054",
   "metadata": {},
   "outputs": [],
   "source": [
    "classloss(y[0], classes)"
   ]
  },
  {
   "cell_type": "code",
   "execution_count": null,
   "id": "779f35bc-81b5-4458-b077-ddb844ae2a86",
   "metadata": {},
   "outputs": [],
   "source": [
    "regressloss(y[1], coords)"
   ]
  },
  {
   "cell_type": "markdown",
   "id": "d02b2f15-0902-47e9-9e5e-e4e238a1c038",
   "metadata": {},
   "source": [
    "### Training the Neural Network"
   ]
  },
  {
   "cell_type": "code",
   "execution_count": null,
   "id": "febbfae1-0bc9-4161-a6df-4a33a2e7afd4",
   "metadata": {},
   "outputs": [],
   "source": [
    "# Create Custom Model Class: Define a custom training loop for advanced control.\n",
    "class FaceTracker(Model):\n",
    "    def __init__(self, eyetracker, **kwargs):\n",
    "        super().__init__(**kwargs)\n",
    "        self.model = eyetracker\n",
    "\n",
    "    def compile(self, opt, classloss, localizationloss, **kwargs):\n",
    "        super().compile(**kwargs)\n",
    "        self.closs = classloss\n",
    "        self.lloss = localizationloss\n",
    "        self.opt = opt\n",
    "\n",
    "    @tf.function  # Decorate train_step with @tf.function\n",
    "    def train_step(self, batch, **kwargs):\n",
    "        X, y = batch\n",
    "\n",
    "        with tf.GradientTape() as tape:\n",
    "            try:\n",
    "                classes, coords = self.model(X, training=True)\n",
    "\n",
    "                # Ensure y[0] has a defined rank (handle potential reshaping)\n",
    "                y_0 = tf.reshape(y[0], [-1, 1])  # Example: Reshape to (batch_size, 1) if needed\n",
    "                # Check your data format and reshape accordingly\n",
    "\n",
    "                # Ensure classes has a defined rank (check model output shape)\n",
    "                # ... (reshape classes if necessary based on your model's output)\n",
    "\n",
    "                batch_classloss = self.closs(y_0, classes)\n",
    "                batch_localizationloss = self.lloss(tf.cast(y[1], tf.float32), coords)\n",
    "                total_loss = batch_localizationloss + 0.5 * batch_classloss\n",
    "\n",
    "            except tf.errors.InvalidArgumentError as e:\n",
    "                # Handle the case where y[0] might have a batch size of zero (optional)\n",
    "                if 'Input tensors must be of size at least 1' in str(e):\n",
    "                    return {\"total_loss\": tf.constant(0.0)}  # Dummy loss (optional)\n",
    "                else:\n",
    "                    raise e  # Re-raise other errors\n",
    "\n",
    "            grad = tape.gradient(total_loss, self.model.trainable_variables)\n",
    "            self.opt.apply_gradients(zip(grad, self.model.trainable_variables))\n",
    "\n",
    "        return {\n",
    "            \"total_loss\": total_loss,\n",
    "            \"class_loss\": batch_classloss,\n",
    "            \"regress_loss\": batch_localizationloss\n",
    "        }\n",
    "\n",
    "    def test_step(self, batch, **kwargs):\n",
    "        X, y = batch\n",
    "        classes, coords = self.model(X, training=False)\n",
    "\n",
    "        # Ensure y[0] has a defined rank (handle potential reshaping)\n",
    "        y_0 = tf.reshape(y[0], [-1, 1])  # Example: Reshape to (batch_size, 1) if needed\n",
    "        # Check your data format and reshape accordingly\n",
    "\n",
    "        # Ensure classes has a defined rank (check model output shape)\n",
    "        # ... (reshape classes if necessary based on your model's output)\n",
    "\n",
    "        batch_classloss = self.closs(y_0, classes)\n",
    "        batch_localizationloss = self.lloss(tf.cast(y[1], tf.float32), coords)\n",
    "        total_loss = batch_localizationloss + 0.5 * batch_classloss\n",
    "        return {\n",
    "            \"total_loss\": total_loss,\n",
    "            \"class_loss\": batch_classloss,\n",
    "            \"regress_loss\": batch_localizationloss\n",
    "        }\n",
    "\n",
    "    def call(self, X, **kwargs):\n",
    "        return self.model(X, **kwargs)"
   ]
  },
  {
   "cell_type": "code",
   "execution_count": null,
   "id": "59ff6076-0134-4fe8-b6c4-1a2b767bc7b5",
   "metadata": {},
   "outputs": [],
   "source": [
    "model = FaceTracker(facetracker)"
   ]
  },
  {
   "cell_type": "code",
   "execution_count": null,
   "id": "04b3e8da-f40d-4165-af64-947046564b89",
   "metadata": {},
   "outputs": [],
   "source": [
    "model.compile(opt, classloss, regressloss)"
   ]
  },
  {
   "cell_type": "code",
   "execution_count": null,
   "id": "a94d1486-05c3-4322-8d8a-6a1d6972509f",
   "metadata": {},
   "outputs": [],
   "source": [
    "# Train the Model: Train the network with the prepared dataset.\n",
    "logdir='logs'"
   ]
  },
  {
   "cell_type": "code",
   "execution_count": null,
   "id": "e0e108d3-744b-4949-9360-8f9b61264b94",
   "metadata": {},
   "outputs": [],
   "source": [
    "tensorboard_callback = tf.keras.callbacks.TensorBoard(log_dir=logdir)"
   ]
  },
  {
   "cell_type": "code",
   "execution_count": null,
   "id": "bf4eb09b-cc28-4e75-acb5-4283aac38ce0",
   "metadata": {},
   "outputs": [],
   "source": [
    "hist = model.fit(train, epochs=10, validation_data=val, callbacks=[tensorboard_callback])"
   ]
  },
  {
   "cell_type": "code",
   "execution_count": null,
   "id": "63024269-65bc-4c99-ab31-f30e900bbbf1",
   "metadata": {},
   "outputs": [],
   "source": [
    "# Evaluate Performance: Plot training and validation metrics to track progress.\n",
    "hist.history"
   ]
  },
  {
   "cell_type": "code",
   "execution_count": null,
   "id": "a09e17aa-c11b-43de-9c2d-523928c47624",
   "metadata": {},
   "outputs": [],
   "source": [
    "fig, ax = plt.subplots(ncols=3, figsize=(20,5))\n",
    "\n",
    "ax[0].plot(hist.history['total_loss'], color='teal', label='loss')\n",
    "ax[0].plot(hist.history['val_total_loss'], color='orange', label='val loss')\n",
    "ax[0].title.set_text('Loss')\n",
    "ax[0].legend()\n",
    "\n",
    "ax[1].plot(hist.history['class_loss'], color='teal', label='class loss')\n",
    "ax[1].plot(hist.history['val_class_loss'], color='orange', label='val class loss')\n",
    "ax[1].title.set_text('Classification Loss')\n",
    "ax[1].legend()\n",
    "\n",
    "ax[2].plot(hist.history['regress_loss'], color='teal', label='regress loss')\n",
    "ax[2].plot(hist.history['val_regress_loss'], color='orange', label='val regress loss')\n",
    "ax[2].title.set_text('Regression Loss')\n",
    "ax[2].legend()\n",
    "\n",
    "plt.show()"
   ]
  },
  {
   "cell_type": "markdown",
   "id": "62929235-abf6-44a4-ba17-203786d137f6",
   "metadata": {},
   "source": [
    "### Model Predictions and Deployment"
   ]
  },
  {
   "cell_type": "code",
   "execution_count": null,
   "id": "f81d4073-d6ae-47fa-953c-c397f95116d9",
   "metadata": {},
   "outputs": [],
   "source": [
    "# Generate Predictions: Test the model on unseen images.\n",
    "test_data = test.as_numpy_iterator()"
   ]
  },
  {
   "cell_type": "code",
   "execution_count": null,
   "id": "e5490704-374c-471b-81c5-213e4c4371ef",
   "metadata": {},
   "outputs": [],
   "source": [
    "test_sample = test_data.next()"
   ]
  },
  {
   "cell_type": "code",
   "execution_count": null,
   "id": "c7572867-6408-48a8-b194-d97535d44d0e",
   "metadata": {},
   "outputs": [],
   "source": [
    "yhat = facetracker.predict(test_sample[0])"
   ]
  },
  {
   "cell_type": "code",
   "execution_count": null,
   "id": "7d4bb85f-5eda-4ea8-9400-b68a5a33501f",
   "metadata": {},
   "outputs": [],
   "source": [
    "fig, ax = plt.subplots(ncols=4, figsize=(20, 20))\n",
    "\n",
    "for idx in range(4): \n",
    "    # Ensure the image is writable\n",
    "    sample_image = test_sample[0][idx].copy()  # Create a writable copy\n",
    "    sample_coords = yhat[1][idx]\n",
    "    \n",
    "    # Only draw the rectangle if the confidence is greater than 0.9\n",
    "    if yhat[0][idx] > 0.9:\n",
    "        cv2.rectangle(\n",
    "            sample_image, \n",
    "            tuple(np.multiply(sample_coords[:2], [120, 120]).astype(int)),  # Top-left corner\n",
    "            tuple(np.multiply(sample_coords[2:], [120, 120]).astype(int)),  # Bottom-right corner\n",
    "            (255, 0, 0),  # Color: Blue in BGR\n",
    "            2  # Thickness of the rectangle\n",
    "        )\n",
    "    \n",
    "    # Display the modified image\n",
    "    ax[idx].imshow(sample_image)\n",
    "\n",
    "plt.show()"
   ]
  },
  {
   "cell_type": "code",
   "execution_count": null,
   "id": "008b59a6-d7ab-4f9d-9043-0736cf36af2f",
   "metadata": {},
   "outputs": [],
   "source": [
    "# Save the Model: Export the trained model for future use.\n",
    "from tensorflow.keras.models import load_model"
   ]
  },
  {
   "cell_type": "code",
   "execution_count": null,
   "id": "9080f30e-9a29-4e41-9a6f-4173aaea775b",
   "metadata": {},
   "outputs": [],
   "source": [
    "facetracker.save('facetracker.h5')"
   ]
  },
  {
   "cell_type": "code",
   "execution_count": null,
   "id": "6b6b0b66-6f3c-4646-82a4-ff74a2fc4ea5",
   "metadata": {},
   "outputs": [],
   "source": [
    "facetracker = load_model('facetracker.h5')"
   ]
  },
  {
   "cell_type": "code",
   "execution_count": null,
   "id": "b58edd13-7076-45a5-a035-ff6cbf292341",
   "metadata": {},
   "outputs": [],
   "source": [
    "# Implement Real-Time Detection: Deploy the model for real-time face detection applications.\n",
    "cap = cv2.VideoCapture(1)\n",
    "while cap.isOpened():\n",
    "    _ , frame = cap.read()\n",
    "    frame = frame[50:500, 50:500,:]\n",
    "    \n",
    "    rgb = cv2.cvtColor(frame, cv2.COLOR_BGR2RGB)\n",
    "    resized = tf.image.resize(rgb, (120,120))\n",
    "    \n",
    "    yhat = facetracker.predict(np.expand_dims(resized/255,0))\n",
    "    sample_coords = yhat[1][0]\n",
    "    \n",
    "    if yhat[0] > 0.5: \n",
    "        # Controls the main rectangle\n",
    "        cv2.rectangle(frame, \n",
    "                      tuple(np.multiply(sample_coords[:2], [450,450]).astype(int)),\n",
    "                      tuple(np.multiply(sample_coords[2:], [450,450]).astype(int)), \n",
    "                            (0,255,0), 2)\n",
    "        # Controls the label rectangle\n",
    "        cv2.rectangle(frame, \n",
    "                      tuple(np.add(np.multiply(sample_coords[:2], [450,450]).astype(int), \n",
    "                                    [0,-30])),\n",
    "                      tuple(np.add(np.multiply(sample_coords[:2], [450,450]).astype(int),\n",
    "                                    [80,0])), \n",
    "                            (0,255,0), -1)\n",
    "        \n",
    "        # Controls the text rendered\n",
    "        cv2.putText(frame, 'Maira', tuple(np.add(np.multiply(sample_coords[:2], [450,450]).astype(int),\n",
    "                                               [0,-5])),\n",
    "                    cv2.FONT_HERSHEY_SIMPLEX, 1, (255,255,255), 2, cv2.LINE_AA)\n",
    "    \n",
    "    cv2.imshow('EyeTrack', frame)\n",
    "    \n",
    "    if cv2.waitKey(1) & 0xFF == ord('q'):\n",
    "        break\n",
    "cap.release()\n",
    "cv2.destroyAllWindows()"
   ]
  }
 ],
 "metadata": {
  "kernelspec": {
   "display_name": "Python 3 (ipykernel)",
   "language": "python",
   "name": "python3"
  },
  "language_info": {
   "codemirror_mode": {
    "name": "ipython",
    "version": 3
   },
   "file_extension": ".py",
   "mimetype": "text/x-python",
   "name": "python",
   "nbconvert_exporter": "python",
   "pygments_lexer": "ipython3",
   "version": "3.12.8"
  }
 },
 "nbformat": 4,
 "nbformat_minor": 5
}
